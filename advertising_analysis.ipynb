{
 "cells": [
  {
   "cell_type": "code",
   "execution_count": 1,
   "metadata": {
    "collapsed": true,
    "ExecuteTime": {
     "end_time": "2023-06-08T15:25:51.530656Z",
     "start_time": "2023-06-08T15:25:51.506038Z"
    }
   },
   "outputs": [],
   "source": [
    "import pandas as pd\n",
    "import numpy as np\n",
    "import seaborn as sns\n",
    "from scipy.stats import skew\n",
    "%matplotlib inline"
   ]
  },
  {
   "cell_type": "code",
   "execution_count": 3,
   "outputs": [],
   "source": [
    "import matplotlib.pyplot as plt\n",
    "plt.style.use(\"ggplot\")\n",
    "plt.rcParams['figure.figsize'] = (12, 8)"
   ],
   "metadata": {
    "collapsed": false,
    "ExecuteTime": {
     "end_time": "2023-06-08T15:26:27.550014Z",
     "start_time": "2023-06-08T15:26:27.547712Z"
    }
   }
  },
  {
   "cell_type": "code",
   "execution_count": 4,
   "outputs": [
    {
     "data": {
      "text/plain": "   Unnamed: 0     TV  Radio  Newspaper  Sales\n0           1  230.1   37.8       69.2   22.1\n1           2   44.5   39.3       45.1   10.4\n2           3   17.2   45.9       69.3    9.3\n3           4  151.5   41.3       58.5   18.5\n4           5  180.8   10.8       58.4   12.9\n5           6    8.7   48.9       75.0    7.2\n6           7   57.5   32.8       23.5   11.8\n7           8  120.2   19.6       11.6   13.2\n8           9    8.6    2.1        1.0    4.8\n9          10  199.8    2.6       21.2   10.6",
      "text/html": "<div>\n<style scoped>\n    .dataframe tbody tr th:only-of-type {\n        vertical-align: middle;\n    }\n\n    .dataframe tbody tr th {\n        vertical-align: top;\n    }\n\n    .dataframe thead th {\n        text-align: right;\n    }\n</style>\n<table border=\"1\" class=\"dataframe\">\n  <thead>\n    <tr style=\"text-align: right;\">\n      <th></th>\n      <th>Unnamed: 0</th>\n      <th>TV</th>\n      <th>Radio</th>\n      <th>Newspaper</th>\n      <th>Sales</th>\n    </tr>\n  </thead>\n  <tbody>\n    <tr>\n      <th>0</th>\n      <td>1</td>\n      <td>230.1</td>\n      <td>37.8</td>\n      <td>69.2</td>\n      <td>22.1</td>\n    </tr>\n    <tr>\n      <th>1</th>\n      <td>2</td>\n      <td>44.5</td>\n      <td>39.3</td>\n      <td>45.1</td>\n      <td>10.4</td>\n    </tr>\n    <tr>\n      <th>2</th>\n      <td>3</td>\n      <td>17.2</td>\n      <td>45.9</td>\n      <td>69.3</td>\n      <td>9.3</td>\n    </tr>\n    <tr>\n      <th>3</th>\n      <td>4</td>\n      <td>151.5</td>\n      <td>41.3</td>\n      <td>58.5</td>\n      <td>18.5</td>\n    </tr>\n    <tr>\n      <th>4</th>\n      <td>5</td>\n      <td>180.8</td>\n      <td>10.8</td>\n      <td>58.4</td>\n      <td>12.9</td>\n    </tr>\n    <tr>\n      <th>5</th>\n      <td>6</td>\n      <td>8.7</td>\n      <td>48.9</td>\n      <td>75.0</td>\n      <td>7.2</td>\n    </tr>\n    <tr>\n      <th>6</th>\n      <td>7</td>\n      <td>57.5</td>\n      <td>32.8</td>\n      <td>23.5</td>\n      <td>11.8</td>\n    </tr>\n    <tr>\n      <th>7</th>\n      <td>8</td>\n      <td>120.2</td>\n      <td>19.6</td>\n      <td>11.6</td>\n      <td>13.2</td>\n    </tr>\n    <tr>\n      <th>8</th>\n      <td>9</td>\n      <td>8.6</td>\n      <td>2.1</td>\n      <td>1.0</td>\n      <td>4.8</td>\n    </tr>\n    <tr>\n      <th>9</th>\n      <td>10</td>\n      <td>199.8</td>\n      <td>2.6</td>\n      <td>21.2</td>\n      <td>10.6</td>\n    </tr>\n  </tbody>\n</table>\n</div>"
     },
     "execution_count": 4,
     "metadata": {},
     "output_type": "execute_result"
    }
   ],
   "source": [
    "# Load the data\n",
    "df = pd.read_csv('Advertising.csv')\n",
    "df.head(10)"
   ],
   "metadata": {
    "collapsed": false,
    "ExecuteTime": {
     "end_time": "2023-06-08T15:27:37.786889Z",
     "start_time": "2023-06-08T15:27:37.763563Z"
    }
   }
  },
  {
   "cell_type": "code",
   "execution_count": null,
   "outputs": [],
   "source": [],
   "metadata": {
    "collapsed": false
   }
  }
 ],
 "metadata": {
  "kernelspec": {
   "display_name": "Python 3",
   "language": "python",
   "name": "python3"
  },
  "language_info": {
   "codemirror_mode": {
    "name": "ipython",
    "version": 2
   },
   "file_extension": ".py",
   "mimetype": "text/x-python",
   "name": "python",
   "nbconvert_exporter": "python",
   "pygments_lexer": "ipython2",
   "version": "2.7.6"
  }
 },
 "nbformat": 4,
 "nbformat_minor": 0
}
